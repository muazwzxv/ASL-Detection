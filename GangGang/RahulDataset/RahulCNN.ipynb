{
 "cells": [
  {
   "cell_type": "code",
   "execution_count": null,
   "metadata": {},
   "outputs": [],
   "source": [
    "# import numpy as np\n",
    "# import os\n",
    "# from scipy.misc import imread, imresize\n",
    "# import matplotlib.pyplot as plt\n",
    "# from glob import glob\n",
    "\n",
    "# #Read all the jpg image directory\n",
    "# def load_image(image_path, image_size):\n",
    "#     file_name=glob(image_path+\"/*jpg\")\n",
    "#     sample = []\n",
    "#     for file in file_name:\n",
    "#         pic = imread(file).astype(np.float32)\n",
    "#         pic = imresize(pic, (image_size, image_size)).astype(np.float32)\n",
    "#         sample.append(pic)\n",
    "\n",
    "#     sample = np.array(sample)\n",
    "#     return sample\n",
    "\n",
    "# if __name__=='__main__':\n",
    "#     samples=load_image(\"C:/Users/User/anacon_csc649_workspace/test_project/American Sign Language/alpha_train/alpha_train\",150)\n",
    "#          # Display the first picture\n",
    "#     pic=samples[:1,:,:,:]\n",
    "#     pic=np.reshape(pic,(150,150,3)).astype(np.uint8)\n",
    "#     plt.imshow(pic)\n",
    "#     plt.show()"
   ]
  },
  {
   "cell_type": "code",
   "execution_count": null,
   "metadata": {},
   "outputs": [],
   "source": [
    "# train_data = np.array(train_dir , dtype='float32')\n",
    "\n",
    "# class_names= ['A','B','C','D','E','F','G','H','I','J','K','L','M','N','O','P','Q','R','S','T','U','V','W','X','Y','Z','del','nothing','space']\n",
    "# i = random.randint(1,train_dir.shape[0])\n",
    "# fig1 ,ax1 =plt.subplots(figsize=(2,2))\n",
    "# plt.imshow(train_data[i,1:].reshape((28,28)),cmap='gray' )\n",
    "# print(\"Label for image is : \", class_names[int(train_data[i,0])] )"
   ]
  },
  {
   "cell_type": "code",
   "execution_count": 18,
   "metadata": {},
   "outputs": [],
   "source": [
    "from __future__ import absolute_import, division, print_function\n",
    "import tensorflow as tf\n",
    "\n",
    "from numpy.random import seed\n",
    "import cv2\n",
    "import os\n",
    "import numpy as np\n",
    "import skimage\n",
    "from skimage.transform import resize\n",
    "import csv\n",
    "import itertools\n",
    "from tqdm import tqdm\n",
    "from glob import glob\n",
    "from matplotlib import pyplot as plt\n",
    "from numpy import floor\n",
    "import random\n",
    "import tensorflow.compat.v1 as tf\n",
    "import keras\n",
    "\n",
    "\n",
    "\n",
    "\n",
    "\n",
    "tf.disable_v2_behavior()\n",
    "tf.logging.set_verbosity(tf.logging.ERROR)\n",
    "\n",
    "\n",
    "# Function to load the images\n",
    "def load_images(directory):\n",
    "    images = []\n",
    "    labels = []\n",
    "    for idx, label in enumerate(unique_labels):\n",
    "        print(label, \" is ready to load\")\n",
    "        for file in os.listdir(directory + \"/\" + label):\n",
    "            filepath = directory + \"/\" + label + \"/\" + file\n",
    "            image = cv2.resize(cv2.imread(filepath), (64,64),cv2.INTER_AREA)\n",
    "            images.append(image)\n",
    "            labels.append(idx)\n",
    "    images = np.array(images)\n",
    "    labels = np.array(labels)\n",
    "    return (images, labels)"
   ]
  },
  {
   "cell_type": "code",
   "execution_count": 19,
   "metadata": {},
   "outputs": [
    {
     "name": "stdout",
     "output_type": "stream",
     "text": [
      "A  is ready to load\n",
      "B  is ready to load\n",
      "C  is ready to load\n",
      "D  is ready to load\n",
      "E  is ready to load\n",
      "F  is ready to load\n",
      "G  is ready to load\n",
      "H  is ready to load\n",
      "I  is ready to load\n",
      "J  is ready to load\n",
      "K  is ready to load\n",
      "L  is ready to load\n",
      "M  is ready to load\n",
      "N  is ready to load\n",
      "O  is ready to load\n",
      "P  is ready to load\n",
      "Q  is ready to load\n",
      "R  is ready to load\n",
      "S  is ready to load\n",
      "T  is ready to load\n",
      "U  is ready to load\n",
      "V  is ready to load\n",
      "W  is ready to load\n",
      "X  is ready to load\n",
      "Y  is ready to load\n",
      "Z  is ready to load\n",
      "Data has been loaded\n"
     ]
    }
   ],
   "source": [
    "# Load all the iamges\n",
    "train_dir = 'C:/Users/hp/anaconda_work/project649/grassknoted/RahulDataset/training_set'\n",
    "unique_labels = sorted(os.listdir(train_dir))\n",
    "\n",
    "images, labels = load_images(directory=train_dir)\n",
    "print(\"Data has been loaded\")"
   ]
  },
  {
   "cell_type": "code",
   "execution_count": 20,
   "metadata": {},
   "outputs": [
    {
     "name": "stdout",
     "output_type": "stream",
     "text": [
      "Total number of symbols:  26\n",
      "Number of training images:  2080\n",
      "Number of testing images:  520\n"
     ]
    }
   ],
   "source": [
    "# Split the training and the testing datasets\n",
    "from sklearn.model_selection import train_test_split\n",
    "\n",
    "x_train, x_test, y_train, y_test = train_test_split(images,\n",
    "                                                    labels,\n",
    "                                                    test_size=0.2,\n",
    "                                                    stratify=labels)\n",
    "\n",
    "n = len(unique_labels)\n",
    "train_n = len(x_train)\n",
    "test_n = len(x_test)\n",
    "\n",
    "print(\"Total number of symbols: \", n)\n",
    "print(\"Number of training images: \", train_n)\n",
    "print(\"Number of testing images: \", test_n)"
   ]
  },
  {
   "cell_type": "code",
   "execution_count": 21,
   "metadata": {},
   "outputs": [
    {
     "data": {
      "image/png": "[encoded data removed]",
      "text/plain": [
       "<Figure size 432x288 with 1 Axes>"
      ]
     },
     "metadata": {
      "needs_background": "light"
     },
     "output_type": "display_data"
    }
   ],
   "source": [
    "index=0\n",
    "img =plt.imshow( x_train[index] )"
   ]
  },
  {
   "cell_type": "code",
   "execution_count": 22,
   "metadata": {},
   "outputs": [
    {
     "name": "stdout",
     "output_type": "stream",
     "text": [
      "The image label is :  22\n"
     ]
    }
   ],
   "source": [
    "print('The image label is : ' , y_train[index])"
   ]
  },
  {
   "cell_type": "code",
   "execution_count": 23,
   "metadata": {},
   "outputs": [
    {
     "name": "stdout",
     "output_type": "stream",
     "text": [
      "[0. 0. 0. 0. 0. 0. 0. 0. 0. 0. 0. 0. 0. 0. 0. 0. 0. 0. 0. 0. 0. 0. 1. 0.\n",
      " 0. 0.]\n",
      "26\n"
     ]
    }
   ],
   "source": [
    "y_train = keras.utils.to_categorical(y_train)\n",
    "y_test = keras.utils.to_categorical(y_test)\n",
    "print(y_train[0])\n",
    "print(len(y_train[0]))"
   ]
  },
  {
   "cell_type": "code",
   "execution_count": 24,
   "metadata": {},
   "outputs": [
    {
     "name": "stdout",
     "output_type": "stream",
     "text": [
      "x_train shape (2080, 64, 64, 3)\n",
      "x_test shape (520, 64, 64, 3)\n",
      "y_train shape  (2080, 26)\n",
      "y_test shape  (520, 26)\n"
     ]
    }
   ],
   "source": [
    "print(\"x_train shape\", x_train.shape)\n",
    "print(\"x_test shape\", x_test.shape)\n",
    "print(\"y_train shape \", y_train.shape)\n",
    "print(\"y_test shape \", y_test.shape)"
   ]
  },
  {
   "cell_type": "code",
   "execution_count": null,
   "metadata": {},
   "outputs": [],
   "source": []
  },
  {
   "cell_type": "code",
   "execution_count": 25,
   "metadata": {},
   "outputs": [],
   "source": [
    "x_train = x_train.astype('float32')/255.0\n",
    "x_test = x_test.astype('float32')/255.0"
   ]
  },
  {
   "cell_type": "code",
   "execution_count": 26,
   "metadata": {},
   "outputs": [],
   "source": [
    "from keras.preprocessing.image import ImageDataGenerator\n",
    "from keras.optimizers import Adam\n",
    "from keras.layers import Conv2D, MaxPooling2D\n",
    "from keras.layers import Conv2D, Dense, Dropout, Flatten,BatchNormalization\n",
    "from keras.layers import Flatten, Dense\n",
    "from keras.models import Sequential\n",
    "#Btach Size\n",
    "# BS = 64\n",
    "#Set the number of Epochs\n",
    "EPOCHS = 15\n",
    "#Learning Rate\n",
    "INIT_LR = 1e-3\n",
    "\n",
    "# #rotation_range=25, width_shift_range=0.1,height_shift_range=0.1, shear_range=0.2, zoom_range=0.2,horizontal_flip=True\n",
    "# aug = ImageDataGenerator(rotation_range=25, width_shift_range=0.1,height_shift_range=0.1, shear_range=0.2, zoom_range=0.2,horizontal_flip=True\n",
    "# ,fill_mode=\"nearest\")"
   ]
  },
  {
   "cell_type": "code",
   "execution_count": 40,
   "metadata": {},
   "outputs": [
    {
     "name": "stdout",
     "output_type": "stream",
     "text": [
      "Model: \"sequential_3\"\n",
      "_________________________________________________________________\n",
      "Layer (type)                 Output Shape              Param #   \n",
      "=================================================================\n",
      "conv2d_30 (Conv2D)           (None, 64, 64, 64)        4864      \n",
      "_________________________________________________________________\n",
      "conv2d_31 (Conv2D)           (None, 64, 64, 64)        102464    \n",
      "_________________________________________________________________\n",
      "max_pooling2d_15 (MaxPooling (None, 16, 16, 64)        0         \n",
      "_________________________________________________________________\n",
      "dropout_3 (Dropout)          (None, 16, 16, 64)        0         \n",
      "_________________________________________________________________\n",
      "conv2d_32 (Conv2D)           (None, 16, 16, 128)       204928    \n",
      "_________________________________________________________________\n",
      "conv2d_33 (Conv2D)           (None, 16, 16, 128)       409728    \n",
      "_________________________________________________________________\n",
      "max_pooling2d_16 (MaxPooling (None, 4, 4, 128)         0         \n",
      "_________________________________________________________________\n",
      "dropout_4 (Dropout)          (None, 4, 4, 128)         0         \n",
      "_________________________________________________________________\n",
      "conv2d_34 (Conv2D)           (None, 4, 4, 256)         819456    \n",
      "_________________________________________________________________\n",
      "dropout_5 (Dropout)          (None, 4, 4, 256)         0         \n",
      "_________________________________________________________________\n",
      "flatten_3 (Flatten)          (None, 4096)              0         \n",
      "_________________________________________________________________\n",
      "dense_9 (Dense)              (None, 26)                106522    \n",
      "=================================================================\n",
      "Total params: 1,647,962\n",
      "Trainable params: 1,647,962\n",
      "Non-trainable params: 0\n",
      "_________________________________________________________________\n"
     ]
    }
   ],
   "source": [
    "model = Sequential()\n",
    "model.add(Conv2D(filters = 64, kernel_size = 5, padding = 'same', activation = 'relu', \n",
    "                 input_shape = (64, 64, 3)))\n",
    "model.add(Conv2D(filters = 64, kernel_size = 5, padding = 'same', activation = 'relu'))\n",
    "model.add(MaxPooling2D(pool_size = (4, 4)))\n",
    "model.add(Dropout(0.5))\n",
    "model.add(Conv2D(filters = 128 , kernel_size = 5, padding = 'same', activation = 'relu'))\n",
    "model.add(Conv2D(filters = 128 , kernel_size = 5, padding = 'same', activation = 'relu'))\n",
    "model.add(MaxPooling2D(pool_size = (4, 4)))\n",
    "model.add(Dropout(0.5))\n",
    "model.add(Conv2D(filters = 256 , kernel_size = 5, padding = 'same', activation = 'relu'))\n",
    "model.add(Dropout(0.5))\n",
    "model.add(Flatten())\n",
    "model.add(Dense(26, activation='softmax'))\n",
    "\n",
    "model.summary()\n",
    "\n",
    "# model= Sequential()\n",
    "# model.add(Conv2D(64, kernel_size = [3,3], padding='same', activation='relu', input_shape=(64,64,3) )) \n",
    "# model.add(Conv2D(64, kernel_size=[3,3], padding='same', activation='relu'))\n",
    "# model.add(MaxPooling2D(pool_size=[2,2]))\n",
    "\n",
    "# model.add(Conv2D(128, kernel_size= [5,5], padding='same', activation='relu')) \n",
    "# model.add(Conv2D(128, kernel_size= [5,5], padding='same', activation='relu')) \n",
    "# model.add(MaxPooling2D(pool_size = [4,4]))\n",
    "\n",
    "\n",
    "# model.add(Conv2D(256, kernel_size=[3,3], padding='same', activation='relu'))\n",
    "# model.add(Conv2D(256, kernel_size= [3,3], padding='same', activation='relu')) \n",
    "# model.add(Conv2D(256, kernel_size= [3,3], padding='same', activation='relu'))\n",
    "# model.add(MaxPooling2D(pool_size= [2,2]))\n",
    "\n",
    "# model.add(Conv2D(512, kernel_size= [3,3], padding='same', activation='relu')) \n",
    "# model.add(Conv2D(512, kernel_size=[3,3], padding='same', activation='relu'))\n",
    "# model.add(MaxPooling2D(pool_size= [2,2]))\n",
    "\n",
    "# model.add(Conv2D(512, kernel_size= [3,3], padding='same', activation='relu')) \n",
    "# model.add(MaxPooling2D(pool_size = [2,2]))\n",
    "\n",
    "# model.add(BatchNormalization())\n",
    "\n",
    "# model.add(Flatten())\n",
    "\n",
    "# model.add(Dropout(0.5))\n",
    "# #,kernel_regularizer=regularizers.12(0.001)\n",
    "# #,kernel_regularizer=regularizers.12(0.001)\n",
    "# model.add(Dense(1024, activation='relu'))\n",
    "# model.add(Dense(512, activation='relu')) \n",
    "# model.add(Dense(26, activation='softmax'))\n",
    "\n",
    "# model.summary()                                                                                                    \n",
    "# print(\"MODEL CREATED\") \n"
   ]
  },
  {
   "cell_type": "code",
   "execution_count": null,
   "metadata": {},
   "outputs": [],
   "source": []
  },
  {
   "cell_type": "code",
   "execution_count": 41,
   "metadata": {},
   "outputs": [],
   "source": [
    "model.compile(loss=\"categorical_crossentropy\", optimizer='Adam',metrics=[\"accuracy\"])"
   ]
  },
  {
   "cell_type": "code",
   "execution_count": 43,
   "metadata": {},
   "outputs": [
    {
     "name": "stdout",
     "output_type": "stream",
     "text": [
      "Train on 2080 samples, validate on 520 samples\n",
      "Epoch 1/5\n",
      "2080/2080 [==============================] - 178s 85ms/sample - loss: 3.1750 - acc: 0.0870 - val_loss: 2.6446 - val_acc: 0.1173\n",
      "Epoch 2/5\n",
      "2080/2080 [==============================] - 175s 84ms/sample - loss: 2.2872 - acc: 0.3106 - val_loss: 1.0773 - val_acc: 0.7096\n",
      "Epoch 3/5\n",
      "2080/2080 [==============================] - 175s 84ms/sample - loss: 1.0727 - acc: 0.6587 - val_loss: 0.2475 - val_acc: 0.9192\n",
      "Epoch 4/5\n",
      "2080/2080 [==============================] - 176s 84ms/sample - loss: 0.3973 - acc: 0.8740 - val_loss: 0.1177 - val_acc: 0.9615\n",
      "Epoch 5/5\n",
      "2080/2080 [==============================] - 175s 84ms/sample - loss: 0.1937 - acc: 0.9428 - val_loss: 0.0073 - val_acc: 1.0000\n"
     ]
    }
   ],
   "source": [
    "# history = model.fit_generator( aug.flow(x_train,y_train,batch_size=BS),validation_data=(x_test, y_test)\n",
    "#                               ,steps_per_epoch=len(x_train) // BS,epochs=EPOCHS, verbose=1)\n",
    "\n",
    "hist= model.fit(x_train,y_train,batch_size=500,epochs=5,validation_data=(x_test, y_test))"
   ]
  },
  {
   "cell_type": "code",
   "execution_count": 44,
   "metadata": {},
   "outputs": [
    {
     "name": "stdout",
     "output_type": "stream",
     "text": [
      "[0.007262708163202311, 1.0]\n",
      "Accuracy for test images: 100.0 %\n"
     ]
    }
   ],
   "source": [
    "score = model.evaluate(x = x_test, y = y_test, verbose = 0)\n",
    "print(score)\n",
    "print('Accuracy for test images:', round(score[1]*100, 3), '%')"
   ]
  },
  {
   "cell_type": "code",
   "execution_count": 49,
   "metadata": {},
   "outputs": [
    {
     "name": "stdout",
     "output_type": "stream",
     "text": [
      "Accuracy for test images: 100.0 %\n"
     ]
    }
   ],
   "source": [
    "score = model.evaluate(x_test,  y_test)\n",
    "\n",
    "print('Accuracy for test images:', round(score[1]*100, 3), '%')\n",
    "\n",
    "# from sklearn.metrics import plot_confusion_matrix,confusion_matrix\n",
    "\n",
    "# import itertools\n",
    "\n",
    "\n",
    "# y_test_pred = model.predict(y_test, batch_size = 32, verbose = 0)\n",
    "# y_test_pred\n",
    "# #plot_confusion_matrix(y_test, y_test_pred)\n"
   ]
  },
  {
   "cell_type": "code",
   "execution_count": 47,
   "metadata": {},
   "outputs": [
    {
     "ename": "ValueError",
     "evalue": "Classification metrics can't handle a mix of multilabel-indicator and continuous-multioutput targets",
     "output_type": "error",
     "traceback": [
      "\u001b[1;31m---------------------------------------------------------------------------\u001b[0m",
      "\u001b[1;31mValueError\u001b[0m                                Traceback (most recent call last)",
      "\u001b[1;32m<ipython-input-47-a02b4aa58ff9>\u001b[0m in \u001b[0;36m<module>\u001b[1;34m\u001b[0m\n\u001b[0;32m      1\u001b[0m \u001b[1;32mfrom\u001b[0m \u001b[0msklearn\u001b[0m\u001b[1;33m.\u001b[0m\u001b[0mmetrics\u001b[0m \u001b[1;32mimport\u001b[0m \u001b[0mclassification_report\u001b[0m\u001b[1;33m,\u001b[0m \u001b[0mconfusion_matrix\u001b[0m\u001b[1;33m,\u001b[0m \u001b[0maccuracy_score\u001b[0m\u001b[1;33m\u001b[0m\u001b[1;33m\u001b[0m\u001b[0m\n\u001b[1;32m----> 2\u001b[1;33m \u001b[0mprint\u001b[0m\u001b[1;33m(\u001b[0m\u001b[1;34m\"Accuracy Score:\"\u001b[0m\u001b[1;33m,\u001b[0m\u001b[0maccuracy_score\u001b[0m\u001b[1;33m(\u001b[0m \u001b[0my_test\u001b[0m\u001b[1;33m,\u001b[0m\u001b[0my_test_pred\u001b[0m\u001b[1;33m)\u001b[0m\u001b[1;33m)\u001b[0m\u001b[1;33m\u001b[0m\u001b[1;33m\u001b[0m\u001b[0m\n\u001b[0m",
      "\u001b[1;32m~\\anaconda3\\lib\\site-packages\\sklearn\\utils\\validation.py\u001b[0m in \u001b[0;36minner_f\u001b[1;34m(*args, **kwargs)\u001b[0m\n\u001b[0;32m     61\u001b[0m             \u001b[0mextra_args\u001b[0m \u001b[1;33m=\u001b[0m \u001b[0mlen\u001b[0m\u001b[1;33m(\u001b[0m\u001b[0margs\u001b[0m\u001b[1;33m)\u001b[0m \u001b[1;33m-\u001b[0m \u001b[0mlen\u001b[0m\u001b[1;33m(\u001b[0m\u001b[0mall_args\u001b[0m\u001b[1;33m)\u001b[0m\u001b[1;33m\u001b[0m\u001b[1;33m\u001b[0m\u001b[0m\n\u001b[0;32m     62\u001b[0m             \u001b[1;32mif\u001b[0m \u001b[0mextra_args\u001b[0m \u001b[1;33m<=\u001b[0m \u001b[1;36m0\u001b[0m\u001b[1;33m:\u001b[0m\u001b[1;33m\u001b[0m\u001b[1;33m\u001b[0m\u001b[0m\n\u001b[1;32m---> 63\u001b[1;33m                 \u001b[1;32mreturn\u001b[0m \u001b[0mf\u001b[0m\u001b[1;33m(\u001b[0m\u001b[1;33m*\u001b[0m\u001b[0margs\u001b[0m\u001b[1;33m,\u001b[0m \u001b[1;33m**\u001b[0m\u001b[0mkwargs\u001b[0m\u001b[1;33m)\u001b[0m\u001b[1;33m\u001b[0m\u001b[1;33m\u001b[0m\u001b[0m\n\u001b[0m\u001b[0;32m     64\u001b[0m \u001b[1;33m\u001b[0m\u001b[0m\n\u001b[0;32m     65\u001b[0m             \u001b[1;31m# extra_args > 0\u001b[0m\u001b[1;33m\u001b[0m\u001b[1;33m\u001b[0m\u001b[1;33m\u001b[0m\u001b[0m\n",
      "\u001b[1;32m~\\anaconda3\\lib\\site-packages\\sklearn\\metrics\\_classification.py\u001b[0m in \u001b[0;36maccuracy_score\u001b[1;34m(y_true, y_pred, normalize, sample_weight)\u001b[0m\n\u001b[0;32m    200\u001b[0m \u001b[1;33m\u001b[0m\u001b[0m\n\u001b[0;32m    201\u001b[0m     \u001b[1;31m# Compute accuracy for each possible representation\u001b[0m\u001b[1;33m\u001b[0m\u001b[1;33m\u001b[0m\u001b[1;33m\u001b[0m\u001b[0m\n\u001b[1;32m--> 202\u001b[1;33m     \u001b[0my_type\u001b[0m\u001b[1;33m,\u001b[0m \u001b[0my_true\u001b[0m\u001b[1;33m,\u001b[0m \u001b[0my_pred\u001b[0m \u001b[1;33m=\u001b[0m \u001b[0m_check_targets\u001b[0m\u001b[1;33m(\u001b[0m\u001b[0my_true\u001b[0m\u001b[1;33m,\u001b[0m \u001b[0my_pred\u001b[0m\u001b[1;33m)\u001b[0m\u001b[1;33m\u001b[0m\u001b[1;33m\u001b[0m\u001b[0m\n\u001b[0m\u001b[0;32m    203\u001b[0m     \u001b[0mcheck_consistent_length\u001b[0m\u001b[1;33m(\u001b[0m\u001b[0my_true\u001b[0m\u001b[1;33m,\u001b[0m \u001b[0my_pred\u001b[0m\u001b[1;33m,\u001b[0m \u001b[0msample_weight\u001b[0m\u001b[1;33m)\u001b[0m\u001b[1;33m\u001b[0m\u001b[1;33m\u001b[0m\u001b[0m\n\u001b[0;32m    204\u001b[0m     \u001b[1;32mif\u001b[0m \u001b[0my_type\u001b[0m\u001b[1;33m.\u001b[0m\u001b[0mstartswith\u001b[0m\u001b[1;33m(\u001b[0m\u001b[1;34m'multilabel'\u001b[0m\u001b[1;33m)\u001b[0m\u001b[1;33m:\u001b[0m\u001b[1;33m\u001b[0m\u001b[1;33m\u001b[0m\u001b[0m\n",
      "\u001b[1;32m~\\anaconda3\\lib\\site-packages\\sklearn\\metrics\\_classification.py\u001b[0m in \u001b[0;36m_check_targets\u001b[1;34m(y_true, y_pred)\u001b[0m\n\u001b[0;32m     90\u001b[0m \u001b[1;33m\u001b[0m\u001b[0m\n\u001b[0;32m     91\u001b[0m     \u001b[1;32mif\u001b[0m \u001b[0mlen\u001b[0m\u001b[1;33m(\u001b[0m\u001b[0my_type\u001b[0m\u001b[1;33m)\u001b[0m \u001b[1;33m>\u001b[0m \u001b[1;36m1\u001b[0m\u001b[1;33m:\u001b[0m\u001b[1;33m\u001b[0m\u001b[1;33m\u001b[0m\u001b[0m\n\u001b[1;32m---> 92\u001b[1;33m         raise ValueError(\"Classification metrics can't handle a mix of {0} \"\n\u001b[0m\u001b[0;32m     93\u001b[0m                          \"and {1} targets\".format(type_true, type_pred))\n\u001b[0;32m     94\u001b[0m \u001b[1;33m\u001b[0m\u001b[0m\n",
      "\u001b[1;31mValueError\u001b[0m: Classification metrics can't handle a mix of multilabel-indicator and continuous-multioutput targets"
     ]
    }
   ],
   "source": [
    "from sklearn.metrics import classification_report, confusion_matrix, accuracy_score\n",
    "print(\"Accuracy Score:\",accuracy_score( y_test,y_test_pred))"
   ]
  },
  {
   "cell_type": "code",
   "execution_count": null,
   "metadata": {},
   "outputs": [],
   "source": [
    "print(hist.history.keys())"
   ]
  },
  {
   "cell_type": "code",
   "execution_count": 33,
   "metadata": {},
   "outputs": [
    {
     "data": {
      "image/png": "[encoded data removed]",
      "text/plain": [
       "<Figure size 432x288 with 1 Axes>"
      ]
     },
     "metadata": {
      "needs_background": "light"
     },
     "output_type": "display_data"
    },
    {
     "data": {
      "image/png": "[encoded data removed]",
      "text/plain": [
       "<Figure size 432x288 with 1 Axes>"
      ]
     },
     "metadata": {
      "needs_background": "light"
     },
     "output_type": "display_data"
    }
   ],
   "source": [
    "plt.plot(hist.history['acc'])\n",
    "plt.plot(hist.history['val_acc'])\n",
    "plt.title('Model accuracy')\n",
    "plt.ylabel('Accuracy')\n",
    "plt.xlabel('Epoch')\n",
    "plt.legend(['Train', 'Test'], loc='upper left')\n",
    "plt.show()\n",
    "\n",
    "plt.plot(hist.history['loss'])\n",
    "plt.plot(hist.history['val_loss'])\n",
    "plt.title('Model loss')\n",
    "plt.ylabel('Loss')\n",
    "plt.xlabel('Epoch')\n",
    "plt.legend(['Train', 'Test'], loc='upper left')\n",
    "plt.show()"
   ]
  },
  {
   "cell_type": "code",
   "execution_count": null,
   "metadata": {},
   "outputs": [],
   "source": [
    "model.save('modelGrassknoted.h5')"
   ]
  },
  {
   "cell_type": "code",
   "execution_count": null,
   "metadata": {},
   "outputs": [],
   "source": [
    "\n"
   ]
  },
  {
   "cell_type": "code",
   "execution_count": null,
   "metadata": {},
   "outputs": [],
   "source": [
    "\n",
    "# from sklearn.preprocessing import StandardScaler\n",
    "\n",
    "# sc= StandardScaler()\n",
    "# x_train=sc.fit_transform(x_train)\n",
    "# x_test=sc.fit_transform(x_test)\n",
    "\n",
    "# from sklearn.neighbors import KNeighborsClassifier\n",
    "\n",
    "# knn_model = KNeighborsClassifier(n_neighbors=5 ,metric='minkowski',p=2)\n",
    "# knn_model.fit(x_train, y_train)\n",
    "\n",
    "# #classification/predict\n",
    "# y_pred = knn_model.predict(x_test)\n",
    "# y_pred\n",
    "\n",
    "\n",
    "# from sklearn.metrics import classification_report, confusion_matrix, accuracy_score\n",
    "# print(classification_report(y_test,y_pred))\n",
    "# print(confusion_matrix(y_test,y_pred))\n",
    "# print(\"Accuracy Score:\",accuracy_score(y_test,y_pred)*100)\n",
    "\n",
    "\n"
   ]
  },
  {
   "cell_type": "code",
   "execution_count": null,
   "metadata": {},
   "outputs": [],
   "source": []
  },
  {
   "cell_type": "code",
   "execution_count": null,
   "metadata": {},
   "outputs": [],
   "source": [
    "#SVM\n",
    "\n",
    "# x_train = x_train.reshape(34800,3*64*64)\n",
    "# x_test = x_test.reshape(8700,3*64*64)\n",
    "\n",
    "# from sklearn.svm import SVC\n",
    "# svclass = SVC(kernel='poly')\n",
    "# svclass\n",
    "# svclass.fit(x_train,y_train)\n",
    "\n",
    "\n",
    "# y_pred = svclass.predict(x_test)\n",
    "# y_pred\n",
    "# y_pred.shape\n",
    "\n",
    "\n",
    "# from sklearn.metrics import classification_report, confusion_matrix, accuracy_score\n",
    "# print(classification_report(y_test,y_pred))\n",
    "\n",
    "# print(confusion_matrix(target_test,y_pred))\n",
    "# print(\"Accuracy Score:\",accuracy_score(target_test,y_pred)\n"
   ]
  },
  {
   "cell_type": "code",
   "execution_count": null,
   "metadata": {},
   "outputs": [],
   "source": []
  },
  {
   "cell_type": "code",
   "execution_count": null,
   "metadata": {},
   "outputs": [],
   "source": []
  },
  {
   "cell_type": "code",
   "execution_count": null,
   "metadata": {},
   "outputs": [],
   "source": []
  },
  {
   "cell_type": "code",
   "execution_count": null,
   "metadata": {},
   "outputs": [],
   "source": [
    "# #sepatutnya sblm train test split\n",
    "# label_list  = enumerate(sorted(os.listdir(train_dir))\n",
    "# from sklearn.preprocessing import LabelBinarizer\n",
    "#  #One hot encoding\n",
    "# #Images as arrays are also hard to analyse\n",
    "# #Converting them to vectors makes it easier for analysis\n",
    "# #Conversion to Vector                      \n",
    "# label_binarizer = LabelBinarizer()\n",
    "# image_labels = label_binarizer.fit_transform(label_list)\n",
    "                        \n",
    "# #Getting the length of the label classes \n",
    "# n_classes = len(label_binarizer.classes_)\n",
    "                        \n",
    "# #Printing the labels\n",
    "# print(label_binarizer.classes_)                  \n",
    "\n",
    "# #nk tngk mcm train test punya data\n",
    "# print(X_train.shape,y_train.shape,X_test.shape,y_test.shape)"
   ]
  },
  {
   "cell_type": "code",
   "execution_count": null,
   "metadata": {},
   "outputs": [],
   "source": [
    "# IMAGE_DIMS = (96, 96, 3)\n",
    "\n",
    "# labels = []\n",
    "# for imagePath in unique_labels:\n",
    "#     labels = []\n",
    "#     data = []\n",
    "#     image = cv2.imread(imagePath)\n",
    "#     image = cv2.resize(image, (IMAGE_DIMS[1], IMAGE_DIMS[0]))\n",
    "#     image = img_to_array(image)\n",
    "#     data.append(image)\n",
    "\n",
    "#     l = label = imagePath.split(os.path.sep)[-2]\n",
    "#    labels.append(l)"
   ]
  },
  {
   "cell_type": "code",
   "execution_count": null,
   "metadata": {
    "scrolled": true
   },
   "outputs": [],
   "source": [
    "# np.random.seed(5) \n",
    "# tf.set_random_seed(2)\n",
    "# %matplotlib inline\n",
    "\n",
    "\n",
    "# y_train = keras.utils.to_categorical(y_train)\n",
    "# y_test = keras.utils.to_categorical(y_test)\n",
    "\n",
    "# print(y_train[0])\n",
    "# print(len(y_train[0]))\n"
   ]
  },
  {
   "cell_type": "code",
   "execution_count": null,
   "metadata": {},
   "outputs": [],
   "source": []
  },
  {
   "cell_type": "code",
   "execution_count": null,
   "metadata": {},
   "outputs": [],
   "source": [
    "# x_train = x_train.astype('float32')/255.0\n",
    "# x_test = x_test.astype('float32')/255.0\n"
   ]
  },
  {
   "cell_type": "code",
   "execution_count": null,
   "metadata": {},
   "outputs": [],
   "source": [
    "# from keras.layers import Conv2D, MaxPooling2D\n",
    "# from keras.layers import Conv2D, Dense, Dropout, Flatten\n",
    "# from keras.layers import Flatten, Dense\n",
    "# from keras.models import Sequential\n",
    "\n",
    "# model = Sequential()\n",
    "# model.add(Conv2D(filters = 64, kernel_size = 5, padding = 'same', activation = 'relu', \n",
    "#                  input_shape = (64, 64, 3)))\n",
    "# model.add(Conv2D(filters = 64, kernel_size = 5, padding = 'same', activation = 'relu'))\n",
    "# model.add(MaxPooling2D(pool_size = (4, 4)))\n",
    "# model.add(Dropout(0.5))\n",
    "# model.add(Conv2D(filters = 128 , kernel_size = 5, padding = 'same', activation = 'relu'))\n",
    "# model.add(Conv2D(filters = 128 , kernel_size = 5, padding = 'same', activation = 'relu'))\n",
    "\n",
    "\n",
    "# model.add(MaxPooling2D(pool_size = (4, 4)))\n",
    "# model.add(Dropout(0.5))\n",
    "# model.add(Conv2D(filters = 256 , kernel_size = 5, padding = 'same', activation = 'relu'))\n",
    "# model.add(Dropout(0.5))\n",
    "# model.add(Flatten())\n",
    "# model.add(Dense(29, activation='softmax'))\n",
    "\n",
    "# model.summary()\n",
    "\n",
    "\n",
    "# model.compile(optimizer =  'rmsprop', loss = 'categorical_crossentropy', metrics = ['categorical_accuracy'])\n",
    "\n",
    "# hist = model.fit(x_train, y_train, epochs = 5, batch_size=64 )"
   ]
  },
  {
   "cell_type": "code",
   "execution_count": null,
   "metadata": {},
   "outputs": [],
   "source": []
  },
  {
   "cell_type": "code",
   "execution_count": null,
   "metadata": {},
   "outputs": [],
   "source": []
  },
  {
   "cell_type": "code",
   "execution_count": null,
   "metadata": {},
   "outputs": [],
   "source": []
  },
  {
   "cell_type": "code",
   "execution_count": null,
   "metadata": {},
   "outputs": [],
   "source": []
  },
  {
   "cell_type": "code",
   "execution_count": null,
   "metadata": {},
   "outputs": [],
   "source": [
    "# #Part 2 Fittting the CNN to the image\n",
    "# from keras.preprocessing.image import ImageDataGenerator\n",
    "\n",
    "# train_datagen = ImageDataGenerator(\n",
    "#         rescale=1./255,\n",
    "#         shear_range=0.2,\n",
    "#         zoom_range=0.2,\n",
    "#         horizontal_flip=True)\n",
    "\n",
    "# test_datagen = ImageDataGenerator(rescale=1./255)\n",
    "\n",
    "\n",
    "# training_set = train_datagen.flow(\n",
    "#         'Dataset/training_set',\n",
    "#         target_size=(64, 64),\n",
    "#         batch_size=32,\n",
    "#         class_mode='categorical')\n",
    "\n",
    "\n",
    "# test_set = test_datagen.flow(\n",
    "#         'Dataset/test_set',l\n",
    "#         target_size=(64, 64),\n",
    "#         batch_size=32,\n",
    "#         class_mode='categorical')\n",
    "\n",
    "\n",
    "# model = classifier.fit_generator(\n",
    "#         training_set,\n",
    "#         steps_per_epoch=800,\n",
    "#         epochs=25,\n",
    "#         validation_data = test_set,\n",
    "#         validation_steps = 6500\n",
    "#       )\n",
    "\n",
    "\n",
    "# # #Saving the model\n",
    "# # import h5py\n",
    "# # classifier.save('Trained_model.h5')\n",
    "\n",
    "\n",
    "\n",
    "# print(model.history.keys())\n",
    "# import matplotlib.pyplot as plt\n",
    "# # summarize history for accuracy\n",
    "# plt.plot(model.history['acc'])\n",
    "# plt.plot(model.history['val_acc'])\n",
    "# plt.title('model accuracy')\n",
    "# plt.ylabel('accuracy')\n",
    "# plt.xlabel('epoch')\n",
    "# plt.legend(['train', 'test'], loc='upper left')\n",
    "# plt.show()\n",
    "# # summarize history for loss\n",
    "\n",
    "# plt.plot(model.history['loss'])\n",
    "# plt.plot(model.history['val_loss'])\n",
    "# plt.title('model loss')\n",
    "# plt.ylabel('loss')\n",
    "# plt.xlabel('epoch')\n",
    "# plt.legend(['train', 'test'], loc='upper left')\n",
    "# plt.show()"
   ]
  },
  {
   "cell_type": "code",
   "execution_count": null,
   "metadata": {},
   "outputs": [],
   "source": []
  },
  {
   "cell_type": "code",
   "execution_count": null,
   "metadata": {},
   "outputs": [],
   "source": []
  },
  {
   "cell_type": "code",
   "execution_count": null,
   "metadata": {},
   "outputs": [],
   "source": []
  },
  {
   "cell_type": "code",
   "execution_count": null,
   "metadata": {},
   "outputs": [],
   "source": [
    "# #CNN\n",
    "# from keras.models import Sequential\n",
    "# from keras.layers import Convolution2D\n",
    "# from keras.layers import MaxPooling2D\n",
    "# from keras.layers import Flatten\n",
    "# from keras.layers import Dense, Dropout\n",
    "# from keras.optimizers import SGD\n",
    "\n",
    "\n",
    "# # Initialing the CNN\n",
    "# classifier = Sequential()\n",
    "\n",
    "# # Step 1 - Convolutio Layer \n",
    "# classifier.add(Convolution2D(32, 3,  3, input_shape = (64, 64, 3), activation = 'relu'))\n",
    "\n",
    "# #step 2 - Pooling\n",
    "# classifier.add(MaxPooling2D(pool_size =(2,2)))\n",
    "\n",
    "# # Adding second convolution layer\n",
    "# classifier.add(Convolution2D(32, 3,  3, activation = 'relu'))\n",
    "# classifier.add(MaxPooling2D(pool_size =(2,2)))\n",
    "\n",
    "# #Adding 3rd Concolution Layer\n",
    "# classifier.add(Convolution2D(64, 3,  3, activation = 'relu'))\n",
    "# classifier.add(MaxPooling2D(pool_size =(2,2)))\n",
    "\n",
    "\n",
    "# #Step 3 - Flattening\n",
    "# classifier.add(Flatten())\n",
    "\n",
    "\n",
    "# #Step 4 - Full Connection\n",
    "# classifier.add(Dense(256, activation = 'relu'))\n",
    "# classifier.add(Dropout(0.5)) # randomly disconnecting nodes from the current layer to the next layer helps the network to reduce overfitting\n",
    "# classifier.add(Dense(26, activation = 'softmax'))\n",
    "\n",
    "# #classifier.summary()\n",
    "\n",
    "# #Compiling The CNN\n",
    "# classifier.compile(\n",
    "#               optimizer = optimizers.SGD(lr = 0.01),\n",
    "#               loss = 'categorical_crossentropy',\n",
    "#               metrics = ['accuracy'])\n",
    "\n",
    "# #fit model \n",
    "# history = classifier.fit\n",
    "# (xtrain,ytrain, epochs=numepochs, class_weight=classweight, validation_data=(xtest,ytest), verbose=1,callbacks = [MetricsCheckpoint('logs')])"
   ]
  },
  {
   "cell_type": "code",
   "execution_count": null,
   "metadata": {},
   "outputs": [],
   "source": [
    "# from sklearn.svm import SVC\n",
    "# svclass = SVC(kernel='linear')\n",
    "# svclass.fit(x_train,y_train)\n",
    "# y_pred = svclass.predict( x_test)\n",
    "# y_pred\n",
    "# from sklearn.metrics import classification_report, confusion_matrix, accuracy_score\n",
    "# print(classification_report(target_test,y_pred))\n",
    "# print(confusion_matrix(target_test,y_pred))\n",
    "# print(\"Accuracy Score:\",accuracy_score(target_test,y_pred))"
   ]
  },
  {
   "cell_type": "code",
   "execution_count": null,
   "metadata": {},
   "outputs": [],
   "source": [
    "# #https://blog.keras.io/building-powerful-image-classification-models-using-very-little-data.html\n",
    "# from keras.preprocessing.image import ImageDataGenerator\n",
    "# from keras.optimizers import Adam\n",
    "\n",
    "# #Btach Size\n",
    "# BS = 64\n",
    "# #Set the number of Epochs\n",
    "# EPOCHS = 15\n",
    "# #Learning Rate\n",
    "# INIT_LR = 1e-3\n",
    "\n",
    "# #rotation_range=25, width_shift_range=0.1,height_shift_range=0.1, shear_range=0.2, zoom_range=0.2,horizontal_flip=True\n",
    "# aug = ImageDataGenerator(rotation_range=25, width_shift_range=0.1,height_shift_range=0.1, shear_range=0.2, zoom_range=0.2,horizontal_flip=True\n",
    "# ,fill_mode=\"nearest\")\n",
    "\n",
    "# from keras.layers import Conv2D, MaxPooling2D\n",
    "# from keras.layers import Conv2D, Dense, Dropout, Flatten,BatchNormalization\n",
    "# from keras.layers import Flatten, Dense\n",
    "# from keras.models import Sequential\n",
    "\n",
    "# # model = Sequential()\n",
    "# # model.add(Conv2D(filters = 64, kernel_size = 5, padding = 'same', activation = 'relu', \n",
    "# #                  input_shape = (64, 64, 3)))\n",
    "# # model.add(Conv2D(filters = 64, kernel_size = 5, padding = 'same', activation = 'relu'))\n",
    "# # model.add(MaxPooling2D(pool_size = (4, 4)))\n",
    "# # model.add(Dropout(0.5))\n",
    "# # model.add(Conv2D(filters = 128 , kernel_size = 5, padding = 'same', activation = 'relu'))\n",
    "# # model.add(Conv2D(filters = 128 , kernel_size = 5, padding = 'same', activation = 'relu'))\n",
    "# # model.add(MaxPooling2D(pool_size = (4, 4)))\n",
    "# # model.add(Dropout(0.5))\n",
    "# # model.add(Conv2D(filters = 256 , kernel_size = 5, padding = 'same', activation = 'relu'))\n",
    "# # model.add(Dropout(0.5))\n",
    "# # model.add(Flatten())\n",
    "# # model.add(Dense(29, activation='softmax'))\n",
    "\n",
    "\n",
    "# model = Sequential()\n",
    "# model.add(Conv2D(64, kernel_size = 5,padding='same', activation='relu',input_shape = (64,64,3)))\n",
    "# model.add(Conv2D(filters = 64, kernel_size = 5, padding = 'same', activation = 'relu'))\n",
    "# #model.add(LeakyReLU(alpha=0.1))\n",
    "# model.add(MaxPooling2D((4, 4)))\n",
    "# model.add(Dropout(0.5))\n",
    "\n",
    "\n",
    "# model.add(Conv2D(128, kernel_size = 5,padding='same', activation='relu'))\n",
    "# model.add(Conv2D(filters = 128 , kernel_size = 5, padding = 'same', activation = 'relu'))\n",
    "# #model.add(LeakyReLU(alpha=0.1))\n",
    "# model.add(MaxPooling2D(pool_size=(4, 4)))\n",
    "# model.add(Dropout(0.5))\n",
    "\n",
    "# model.add(Conv2D(filters = 256 , kernel_size = 5, padding = 'same', activation = 'relu'))\n",
    "# #model.add(LeakyReLU(alpha=0.1))                  \n",
    "# model.add(MaxPooling2D(pool_size=(4, 4)))\n",
    "# model.add(Dropout(0.5))\n",
    "\n",
    "# model.add(BatchNormalization())\n",
    "\n",
    "# model.add(Flatten())\n",
    "# #model.add(LeakyReLU(alpha=0.1))                  \n",
    "# model.add(Dense(29, activation='softmax'))\n",
    "\n",
    "\n",
    "# model.summary()\n",
    "\n",
    "# #Optimization\n",
    "# #Learning Rate and Epochs is defined above\n",
    "# opt = Adam(lr=INIT_LR, decay=INIT_LR / EPOCHS)\n",
    "# #For future reference\n",
    "# #Nice Article explaining binary_crossentropy loss \n",
    "# #Link : https://towardsdatascience.com/understanding-binary-cross-entropy-log-loss-a-visual-explanation-a3ac6025181a\n",
    "# model.compile(loss=\"categorical_crossentropy\", optimizer=opt,metrics=[\"accuracy\"])\n",
    "# #Next step is to train the network\n",
    "# print(\"[INFO] training network...\")\n",
    "\n",
    "\n",
    "# history = model.fit_generator( aug.flow(x_train,y_train,batch_size=BS),validation_data=(x_test, y_test)\n",
    "#                               ,steps_per_epoch=len(x_train) // BS,epochs=EPOCHS, verbose=1)\n",
    "\n",
    "# #Note: model.fit() is used for small data\n",
    "\n",
    "# #.fit is used when the entire training dataset can fit into the memory and no data augmentation is applied.\n",
    "\n",
    "# #whereas model.fit_generator() can be used for augmented data as done here\n",
    "\n",
    "# #Augmented data helps to analyse deep learning models better\n",
    "\n",
    "# #.fit_generator is used when either we have a huge dataset to fit into our memory or when data augmentation needs to be applied.\n",
    "\n",
    "\n",
    "\n",
    "# #hist = model.fit(X_train, y_train, epochs = 5, batch_size = 64)   \n",
    "\n",
    "\n",
    "# #Note: model.fit() is used for small data\n",
    "# #.fit is used when the entire training dataset can fit into the memory and no data augmentation is applied.\n",
    "# #whereas model.fit_generator() can be used for augmented data as done here\n",
    "# #Augmented data helps to analyse deep learning models better \n",
    "# #.fit_generator is used when either we have a huge dataset to fit into our memory or when data augmentation needs to be applied.\n",
    "\n",
    "\n",
    "\n",
    "# #hist = model.fit(X_train, y_train, epochs = 5, batch_size = 64)    "
   ]
  },
  {
   "cell_type": "code",
   "execution_count": null,
   "metadata": {},
   "outputs": [],
   "source": []
  },
  {
   "cell_type": "code",
   "execution_count": null,
   "metadata": {},
   "outputs": [],
   "source": []
  },
  {
   "cell_type": "code",
   "execution_count": null,
   "metadata": {},
   "outputs": [],
   "source": []
  },
  {
   "cell_type": "code",
   "execution_count": null,
   "metadata": {},
   "outputs": [],
   "source": []
  },
  {
   "cell_type": "code",
   "execution_count": null,
   "metadata": {},
   "outputs": [],
   "source": []
  }
 ],
 "metadata": {
  "kernelspec": {
   "display_name": "Python 3",
   "language": "python",
   "name": "python3"
  },
  "language_info": {
   "codemirror_mode": {
    "name": "ipython",
    "version": 3
   },
   "file_extension": ".py",
   "mimetype": "text/x-python",
   "name": "python",
   "nbconvert_exporter": "python",
   "pygments_lexer": "ipython3",
   "version": "3.8.8"
  }
 },
 "nbformat": 4,
 "nbformat_minor": 4
}
