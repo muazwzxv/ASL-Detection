{
 "cells": [
  {
   "cell_type": "code",
   "execution_count": 1,
   "id": "491cdcbb",
   "metadata": {},
   "outputs": [],
   "source": [
    "# import os\n",
    "# for dirname, _, filenames in os.walk('/kaggle/input'):\n",
    "#     for filename in filenames:\n",
    "#         print(os.path.join(dirname, filename))"
   ]
  },
  {
   "cell_type": "code",
   "execution_count": 2,
   "id": "b46ab6ca",
   "metadata": {},
   "outputs": [],
   "source": [
    "import numpy as np # linear algebra\n",
    "import pandas as pd # data processing, CSV file I/O (e.g. pd.read_csv)\n",
    "import tensorflow as tf\n",
    "import keras\n",
    "from keras.layers import Dense,Dropout,Activation,Add,MaxPooling2D,Conv2D,Flatten,BatchNormalization,MaxPool2D\n",
    "from keras.models import Sequential\n",
    "from keras import layers\n",
    "from keras.preprocessing.image import ImageDataGenerator\n",
    "import numpy as np\n",
    "import matplotlib.pyplot as plt\n",
    "from keras.preprocessing import image"
   ]
  },
  {
   "cell_type": "code",
   "execution_count": 3,
   "id": "56381857",
   "metadata": {},
   "outputs": [
    {
     "name": "stdout",
     "output_type": "stream",
     "text": [
      "Found 39000 files belonging to 26 classes.\n",
      "Using 31200 files for training.\n"
     ]
    }
   ],
   "source": [
    "train_data = tf.keras.preprocessing.image_dataset_from_directory(\n",
    "    \"C:/Users/hp/anaconda_work/project649/KhalidDataset/Sign Language for Alphabets Khalid/Sign Language for Alphabets\", labels='inferred', label_mode='int', class_names=None,\n",
    "    color_mode='rgb', batch_size=32, image_size=(50, 50), shuffle=True, seed=123,\n",
    "    validation_split=0.2, subset=\"training\"\n",
    ")"
   ]
  },
  {
   "cell_type": "code",
   "execution_count": 4,
   "id": "771660bc",
   "metadata": {},
   "outputs": [
    {
     "name": "stdout",
     "output_type": "stream",
     "text": [
      "Found 39000 files belonging to 26 classes.\n",
      "Using 7800 files for validation.\n"
     ]
    }
   ],
   "source": [
    "val_data = tf.keras.preprocessing.image_dataset_from_directory(\n",
    "    \"C:/Users/hp/anaconda_work/project649/KhalidDataset/Sign Language for Alphabets Khalid/Sign Language for Alphabets\", labels='inferred', label_mode='int', class_names=None,\n",
    "    color_mode='rgb', batch_size=32, image_size=(50, 50), shuffle=True, seed=123,\n",
    "    validation_split=0.2, subset=\"validation\"\n",
    ")"
   ]
  },
  {
   "cell_type": "code",
   "execution_count": 5,
   "id": "55c23392",
   "metadata": {},
   "outputs": [],
   "source": [
    "#class names \n",
    "dict_labels = {0:\"a\",1:\"b\",2:\"c\",3:\"d\",4:\"e\",5:\"f\",6:\"g\",7:\"h\",8:\"i\",9:\"j\",10:\"k\",11:\"l\",12:\"m\",13:\"n\",14:\"o\",15:\"p\",16:\"q\",17:\"r\",18:\"s\",19:\"t\",20:\"u\",21:\"unknown\",22:\"v\",23:\"w\",24:\"x\",25:\"y\",26:\"z\"}"
   ]
  },
  {
   "cell_type": "code",
   "execution_count": 6,
   "id": "ea352fb6",
   "metadata": {},
   "outputs": [
    {
     "data": {
      "image/png": "[encoded data removed]",
      "text/plain": [
       "<Figure size 432x288 with 1 Axes>"
      ]
     },
     "metadata": {
      "needs_background": "light"
     },
     "output_type": "display_data"
    }
   ],
   "source": [
    "#visulaize data\n",
    "fig, ax = plt.subplots()\n",
    "ax.bar(\"data\",40500 ,color= 'b', label='Data')\n",
    "ax.bar(\"train\",32400 ,color= 'r', label='Train')\n",
    "ax.bar(\"val\",8100 ,color='g', label='Val')\n",
    "leg = ax.legend();"
   ]
  },
  {
   "cell_type": "code",
   "execution_count": 7,
   "id": "0e4a966c",
   "metadata": {},
   "outputs": [],
   "source": [
    "#build cnn \n",
    "model = Sequential()\n",
    "model.add(BatchNormalization())\n",
    "model.add(Conv2D(64, kernel_size=(3,3), activation = 'relu', input_shape=(50,50 ,3) ))\n",
    "model.add(MaxPooling2D(pool_size = (2, 2)))\n",
    "\n",
    "model.add(Conv2D(64, kernel_size = (3, 3), activation = 'relu'))\n",
    "model.add(MaxPooling2D(pool_size = (2, 2)))\n",
    "\n",
    "model.add(Conv2D(64, kernel_size = (3, 3), activation = 'relu'))\n",
    "model.add(MaxPooling2D(pool_size = (2, 2)))\n",
    "\n",
    "model.add(Flatten())\n",
    "model.add(Dense(128, activation = 'relu'))\n",
    "model.add(Dropout(0.20))\n",
    "model.add(Dense(27, activation = 'softmax'))\n"
   ]
  },
  {
   "cell_type": "code",
   "execution_count": 8,
   "id": "ea13b5da",
   "metadata": {},
   "outputs": [],
   "source": [
    "model.compile(optimizer='Adam', metrics=['accuracy'], loss='sparse_categorical_crossentropy')"
   ]
  },
  {
   "cell_type": "code",
   "execution_count": 9,
   "id": "90d66de9",
   "metadata": {},
   "outputs": [],
   "source": [
    "call = tf.keras.callbacks.EarlyStopping(\n",
    "    monitor=\"val_loss\",\n",
    "    patience=5,\n",
    "    restore_best_weights=True)"
   ]
  },
  {
   "cell_type": "code",
   "execution_count": 14,
   "id": "f290a411",
   "metadata": {},
   "outputs": [
    {
     "name": "stdout",
     "output_type": "stream",
     "text": [
      "Epoch 1/15\n",
      "975/975 [==============================] - 495s 508ms/step - loss: 0.0663 - accuracy: 0.0386 - val_loss: 0.0905 - val_accuracy: 0.0388\n",
      "Epoch 2/15\n",
      "975/975 [==============================] - 258s 265ms/step - loss: 0.0474 - accuracy: 0.0379 - val_loss: 0.1037 - val_accuracy: 0.0405\n",
      "Epoch 3/15\n",
      "975/975 [==============================] - 312s 320ms/step - loss: 0.0404 - accuracy: 0.0383 - val_loss: 0.0808 - val_accuracy: 0.0386\n",
      "Epoch 4/15\n",
      "975/975 [==============================] - 250s 256ms/step - loss: 0.0358 - accuracy: 0.0385 - val_loss: 0.0935 - val_accuracy: 0.0383\n",
      "Epoch 5/15\n",
      "975/975 [==============================] - 249s 255ms/step - loss: 0.0313 - accuracy: 0.0384 - val_loss: 0.0862 - val_accuracy: 0.0386\n",
      "Epoch 6/15\n",
      "975/975 [==============================] - 248s 255ms/step - loss: 0.0313 - accuracy: 0.0383 - val_loss: 0.0957 - val_accuracy: 0.0412\n",
      "Epoch 7/15\n",
      "975/975 [==============================] - 248s 255ms/step - loss: 0.0262 - accuracy: 0.0385 - val_loss: 0.0768 - val_accuracy: 0.0409\n",
      "Epoch 8/15\n",
      "975/975 [==============================] - 248s 255ms/step - loss: 0.0256 - accuracy: 0.0384 - val_loss: 0.0921 - val_accuracy: 0.0404\n",
      "Epoch 9/15\n",
      "975/975 [==============================] - 248s 254ms/step - loss: 0.0257 - accuracy: 0.0383 - val_loss: 0.0632 - val_accuracy: 0.0400\n",
      "Epoch 10/15\n",
      "975/975 [==============================] - 249s 255ms/step - loss: 0.0226 - accuracy: 0.0383 - val_loss: 0.0665 - val_accuracy: 0.0387\n",
      "Epoch 11/15\n",
      "975/975 [==============================] - 248s 255ms/step - loss: 0.0179 - accuracy: 0.0384 - val_loss: 0.0990 - val_accuracy: 0.0387\n",
      "Epoch 12/15\n",
      "975/975 [==============================] - 248s 254ms/step - loss: 0.0234 - accuracy: 0.0384 - val_loss: 0.0898 - val_accuracy: 0.0377\n",
      "Epoch 13/15\n",
      "975/975 [==============================] - 248s 255ms/step - loss: 0.0204 - accuracy: 0.0384 - val_loss: 0.0893 - val_accuracy: 0.0400\n",
      "Epoch 14/15\n",
      "975/975 [==============================] - 248s 254ms/step - loss: 0.0165 - accuracy: 0.0383 - val_loss: 0.0861 - val_accuracy: 0.0399\n",
      "Epoch 15/15\n",
      "975/975 [==============================] - 248s 255ms/step - loss: 0.0158 - accuracy: 0.0384 - val_loss: 0.0898 - val_accuracy: 0.0406\n"
     ]
    }
   ],
   "source": [
    "fit= model.fit(train_data,validation_data=val_data,epochs=15)\n",
    "#callbacks=[call]"
   ]
  },
  {
   "cell_type": "code",
   "execution_count": 11,
   "id": "ce8544ca",
   "metadata": {},
   "outputs": [
    {
     "data": {
      "image/png": "[encoded data removed]",
      "text/plain": [
       "<Figure size 432x288 with 1 Axes>"
      ]
     },
     "metadata": {},
     "output_type": "display_data"
    },
    {
     "data": {
      "image/png": "[encoded data removed]",
      "text/plain": [
       "<Figure size 432x288 with 1 Axes>"
      ]
     },
     "metadata": {},
     "output_type": "display_data"
    }
   ],
   "source": [
    "#plotting training values\n",
    "import matplotlib.pyplot as plt\n",
    "import seaborn as sns\n",
    "sns.set()\n",
    "\n",
    "acc = fit.history['accuracy']\n",
    "val_acc = fit.history['val_accuracy']\n",
    "loss = fit.history['loss']\n",
    "val_loss = fit.history['val_loss']\n",
    "epochs = range(1, len(loss) + 1)\n",
    "\n",
    "#accuracy plot\n",
    "plt.plot(epochs, acc, color='green', label='Training Accuracy')\n",
    "plt.plot(epochs, val_acc, color='blue', label='Validation Accuracy')\n",
    "plt.title('Training and Validation Accuracy')\n",
    "plt.ylabel('Accuracy')\n",
    "plt.xlabel('Epoch')\n",
    "plt.legend()\n",
    "\n",
    "plt.figure()\n",
    "#loss plot\n",
    "plt.plot(epochs, loss, color='pink', label='Training Loss')\n",
    "plt.plot(epochs, val_loss, color='red', label='Validation Loss')\n",
    "plt.title('Training and Validation Loss')\n",
    "plt.xlabel('Epoch')\n",
    "plt.ylabel('Loss')\n",
    "plt.legend()\n",
    "\n",
    "plt.show()"
   ]
  },
  {
   "cell_type": "code",
   "execution_count": 12,
   "id": "008d31b7",
   "metadata": {},
   "outputs": [
    {
     "name": "stdout",
     "output_type": "stream",
     "text": [
      "Model: \"sequential\"\n",
      "_________________________________________________________________\n",
      "Layer (type)                 Output Shape              Param #   \n",
      "=================================================================\n",
      "batch_normalization (BatchNo (None, 50, 50, 3)         12        \n",
      "_________________________________________________________________\n",
      "conv2d (Conv2D)              (None, 48, 48, 64)        1792      \n",
      "_________________________________________________________________\n",
      "max_pooling2d (MaxPooling2D) (None, 24, 24, 64)        0         \n",
      "_________________________________________________________________\n",
      "conv2d_1 (Conv2D)            (None, 22, 22, 64)        36928     \n",
      "_________________________________________________________________\n",
      "max_pooling2d_1 (MaxPooling2 (None, 11, 11, 64)        0         \n",
      "_________________________________________________________________\n",
      "conv2d_2 (Conv2D)            (None, 9, 9, 64)          36928     \n",
      "_________________________________________________________________\n",
      "max_pooling2d_2 (MaxPooling2 (None, 4, 4, 64)          0         \n",
      "_________________________________________________________________\n",
      "flatten (Flatten)            (None, 1024)              0         \n",
      "_________________________________________________________________\n",
      "dense (Dense)                (None, 128)               131200    \n",
      "_________________________________________________________________\n",
      "dropout (Dropout)            (None, 128)               0         \n",
      "_________________________________________________________________\n",
      "dense_1 (Dense)              (None, 27)                3483      \n",
      "=================================================================\n",
      "Total params: 210,343\n",
      "Trainable params: 210,337\n",
      "Non-trainable params: 6\n",
      "_________________________________________________________________\n",
      "244/244 [==============================] - 19s 78ms/step - loss: 0.0836 - accuracy: 0.0381\n",
      "Result  [0.08358559757471085, 0.03807692229747772]\n"
     ]
    }
   ],
   "source": [
    "model.save('modelKhalid.h5')\n",
    "import cv2\n",
    "import tensorflow as tf\n",
    "modelSaved = tf.keras.models.load_model('modelKhalid.h5')\n",
    "# load and evaluate a saved model\n",
    "from numpy import loadtxt\n",
    "from keras.models import load_model\n",
    " \n",
    "# load model\n",
    "model = load_model('modelKhalid.h5')\n",
    "# summarize model.\n",
    "model.summary()\n",
    "\n",
    "result = model.evaluate(val_data)\n",
    "\n",
    "print(\"Result \" , result)\n",
    "\n",
    "# acc = model.history['accuracy']\n",
    "# val_acc = model.history['val_accuracy']\n",
    "# loss = model.history['loss']\n",
    "# val_loss =model.history['val_loss']"
   ]
  },
  {
   "cell_type": "code",
   "execution_count": 13,
   "id": "d6bcd693",
   "metadata": {
    "scrolled": true
   },
   "outputs": [],
   "source": [
    "\n",
    "# pip install tensorflowjs\n"
   ]
  },
  {
   "cell_type": "code",
   "execution_count": null,
   "id": "dff748e0",
   "metadata": {},
   "outputs": [],
   "source": []
  },
  {
   "cell_type": "code",
   "execution_count": null,
   "id": "d1515288",
   "metadata": {},
   "outputs": [],
   "source": []
  },
  {
   "cell_type": "code",
   "execution_count": null,
   "id": "70ed90e8",
   "metadata": {},
   "outputs": [],
   "source": []
  }
 ],
 "metadata": {
  "_draft": {
   "nbviewer_url": "https://gist.github.com/5fcc6d0710e961fe40791dfa72b49f10"
  },
  "gist": {
   "data": {
    "description": "anaconda_work/project649/KhalidDataset/khalidData.ipynb",
    "public": true
   },
   "id": "5fcc6d0710e961fe40791dfa72b49f10"
  },
  "kernelspec": {
   "display_name": "Python 3",
   "language": "python",
   "name": "python3"
  },
  "language_info": {
   "codemirror_mode": {
    "name": "ipython",
    "version": 3
   },
   "file_extension": ".py",
   "mimetype": "text/x-python",
   "name": "python",
   "nbconvert_exporter": "python",
   "pygments_lexer": "ipython3",
   "version": "3.8.8"
  }
 },
 "nbformat": 4,
 "nbformat_minor": 5
}
