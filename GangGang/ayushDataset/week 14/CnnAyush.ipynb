{
 "cells": [
  {
   "cell_type": "code",
   "execution_count": 1,
   "id": "491cdcbb",
   "metadata": {},
   "outputs": [],
   "source": [
    "# import os\n",
    "# for dirname, _, filenames in os.walk('/kaggle/input'):\n",
    "#     for filename in filenames:\n",
    "#         print(os.path.join(dirname, filename))"
   ]
  },
  {
   "cell_type": "code",
   "execution_count": 2,
   "id": "b46ab6ca",
   "metadata": {},
   "outputs": [],
   "source": [
    "import numpy as np # linear algebra\n",
    "import pandas as pd # data processing, CSV file I/O (e.g. pd.read_csv)\n",
    "import tensorflow as tf\n",
    "import keras\n",
    "from keras.layers import Dense,Dropout,Activation,Add,MaxPooling2D,Conv2D,Flatten,BatchNormalization,MaxPool2D\n",
    "from keras.models import Sequential\n",
    "from keras import layers\n",
    "from keras.preprocessing.image import ImageDataGenerator\n",
    "import numpy as np\n",
    "import matplotlib.pyplot as plt\n",
    "from keras.preprocessing import image"
   ]
  },
  {
   "cell_type": "code",
   "execution_count": 3,
   "id": "56381857",
   "metadata": {},
   "outputs": [
    {
     "name": "stdout",
     "output_type": "stream",
     "text": [
      "Found 520 files belonging to 26 classes.\n",
      "Using 416 files for training.\n"
     ]
    }
   ],
   "source": [
    "train_data = tf.keras.preprocessing.image_dataset_from_directory(\n",
    "    \"C:/Users/hp/anaconda_work/project649/ayushdataset/asl_datasetAyush/asl_dataset\", labels='inferred', label_mode='int', class_names=None,\n",
    "    color_mode='rgb', batch_size=32, image_size=(50, 50), shuffle=True, seed=123,\n",
    "    validation_split=0.2, subset=\"training\"\n",
    ")"
   ]
  },
  {
   "cell_type": "code",
   "execution_count": 4,
   "id": "771660bc",
   "metadata": {},
   "outputs": [
    {
     "name": "stdout",
     "output_type": "stream",
     "text": [
      "Found 520 files belonging to 26 classes.\n",
      "Using 104 files for validation.\n"
     ]
    }
   ],
   "source": [
    "val_data = tf.keras.preprocessing.image_dataset_from_directory(\n",
    "    \"C:/Users/hp/anaconda_work/project649/ayushdataset/asl_datasetAyush/asl_dataset\", labels='inferred', label_mode='int', class_names=None,\n",
    "    color_mode='rgb', batch_size=32, image_size=(50, 50), shuffle=True, seed=123,\n",
    "    validation_split=0.2, subset=\"validation\"\n",
    ")"
   ]
  },
  {
   "cell_type": "code",
   "execution_count": 5,
   "id": "55c23392",
   "metadata": {},
   "outputs": [],
   "source": [
    "#class names \n",
    "dict_labels = {0:\"a\",1:\"b\",2:\"c\",3:\"d\",4:\"e\",5:\"f\",6:\"g\",7:\"h\",8:\"i\",9:\"j\",10:\"k\",11:\"l\",12:\"m\",13:\"n\",14:\"o\",15:\"p\",16:\"q\",17:\"r\",18:\"s\",19:\"t\",20:\"u\",21:\"unknown\",22:\"v\",23:\"w\",24:\"x\",25:\"y\",26:\"z\"}"
   ]
  },
  {
   "cell_type": "code",
   "execution_count": 6,
   "id": "ea352fb6",
   "metadata": {},
   "outputs": [
    {
     "data": {
      "image/png": "[encoded data removed]",
      "text/plain": [
       "<Figure size 432x288 with 1 Axes>"
      ]
     },
     "metadata": {
      "needs_background": "light"
     },
     "output_type": "display_data"
    }
   ],
   "source": [
    "#visulaize data\n",
    "fig, ax = plt.subplots()\n",
    "ax.bar(\"data\",40500 ,color= 'b', label='Data')\n",
    "ax.bar(\"train\",32400 ,color= 'r', label='Train')\n",
    "ax.bar(\"val\",8100 ,color='g', label='Val')\n",
    "leg = ax.legend();"
   ]
  },
  {
   "cell_type": "code",
   "execution_count": 7,
   "id": "0e4a966c",
   "metadata": {},
   "outputs": [],
   "source": [
    "#build cnn \n",
    "model = Sequential()\n",
    "model.add(BatchNormalization())\n",
    "model.add(Conv2D(64, kernel_size=(3,3), activation = 'relu', input_shape=(50,50 ,3) ))\n",
    "model.add(MaxPooling2D(pool_size = (2, 2)))\n",
    "\n",
    "model.add(Conv2D(64, kernel_size = (3, 3), activation = 'relu'))\n",
    "model.add(MaxPooling2D(pool_size = (2, 2)))\n",
    "\n",
    "model.add(Conv2D(64, kernel_size = (3, 3), activation = 'relu'))\n",
    "model.add(MaxPooling2D(pool_size = (2, 2)))\n",
    "\n",
    "model.add(Flatten())\n",
    "model.add(Dense(128, activation = 'relu'))\n",
    "model.add(Dropout(0.20))\n",
    "model.add(Dense(27, activation = 'softmax'))\n"
   ]
  },
  {
   "cell_type": "code",
   "execution_count": 8,
   "id": "ea13b5da",
   "metadata": {},
   "outputs": [],
   "source": [
    "model.compile(optimizer='Adam', metrics=['accuracy'], loss='sparse_categorical_crossentropy')"
   ]
  },
  {
   "cell_type": "code",
   "execution_count": 9,
   "id": "90d66de9",
   "metadata": {},
   "outputs": [],
   "source": [
    "call = tf.keras.callbacks.EarlyStopping(\n",
    "    monitor=\"val_loss\",\n",
    "    patience=5,\n",
    "    restore_best_weights=True)"
   ]
  },
  {
   "cell_type": "code",
   "execution_count": 10,
   "id": "f290a411",
   "metadata": {
    "scrolled": false
   },
   "outputs": [
    {
     "name": "stdout",
     "output_type": "stream",
     "text": [
      "Epoch 1/15\n",
      "13/13 [==============================] - 4s 326ms/step - loss: 3.1334 - accuracy: 0.1322 - val_loss: 2.9325 - val_accuracy: 0.1923\n",
      "Epoch 2/15\n",
      "13/13 [==============================] - 3s 245ms/step - loss: 2.1026 - accuracy: 0.3846 - val_loss: 1.8158 - val_accuracy: 0.3558\n",
      "Epoch 3/15\n",
      "13/13 [==============================] - 4s 343ms/step - loss: 0.9244 - accuracy: 0.7115 - val_loss: 1.7037 - val_accuracy: 0.5577\n",
      "Epoch 4/15\n",
      "13/13 [==============================] - 4s 325ms/step - loss: 0.4858 - accuracy: 0.8438 - val_loss: 0.6238 - val_accuracy: 0.7788\n",
      "Epoch 5/15\n",
      "13/13 [==============================] - 4s 281ms/step - loss: 0.2444 - accuracy: 0.9207 - val_loss: 0.2316 - val_accuracy: 0.9327\n",
      "Epoch 6/15\n",
      "13/13 [==============================] - 4s 273ms/step - loss: 0.1500 - accuracy: 0.9447 - val_loss: 0.1410 - val_accuracy: 0.9423\n",
      "Epoch 7/15\n",
      "13/13 [==============================] - 3s 263ms/step - loss: 0.0890 - accuracy: 0.9736 - val_loss: 0.1329 - val_accuracy: 0.9615\n",
      "Epoch 8/15\n",
      "13/13 [==============================] - 4s 281ms/step - loss: 0.0542 - accuracy: 0.9832 - val_loss: 0.2177 - val_accuracy: 0.9423\n",
      "Epoch 9/15\n",
      "13/13 [==============================] - 3s 245ms/step - loss: 0.0601 - accuracy: 0.9880 - val_loss: 0.0281 - val_accuracy: 0.9904\n",
      "Epoch 10/15\n",
      "13/13 [==============================] - 3s 250ms/step - loss: 0.0354 - accuracy: 0.9880 - val_loss: 0.0136 - val_accuracy: 1.0000\n",
      "Epoch 11/15\n",
      "13/13 [==============================] - 3s 243ms/step - loss: 0.0348 - accuracy: 0.9904 - val_loss: 0.0276 - val_accuracy: 1.0000\n",
      "Epoch 12/15\n",
      "13/13 [==============================] - 4s 286ms/step - loss: 0.0272 - accuracy: 0.9928 - val_loss: 0.0177 - val_accuracy: 1.0000\n",
      "Epoch 13/15\n",
      "13/13 [==============================] - 3s 244ms/step - loss: 0.0165 - accuracy: 0.9928 - val_loss: 0.0218 - val_accuracy: 0.9904\n",
      "Epoch 14/15\n",
      "13/13 [==============================] - 3s 246ms/step - loss: 0.0168 - accuracy: 0.9928 - val_loss: 0.0030 - val_accuracy: 1.0000\n",
      "Epoch 15/15\n",
      "13/13 [==============================] - 3s 247ms/step - loss: 0.0059 - accuracy: 1.0000 - val_loss: 0.0101 - val_accuracy: 1.0000\n"
     ]
    }
   ],
   "source": [
    "fit= model.fit(train_data,validation_data=val_data,epochs=15)\n",
    "#,callbacks=[call]"
   ]
  },
  {
   "cell_type": "code",
   "execution_count": 16,
   "id": "5a4322be",
   "metadata": {},
   "outputs": [
    {
     "name": "stdout",
     "output_type": "stream",
     "text": [
      "4/4 [==============================] - 0s 34ms/step - loss: 0.0101 - accuracy: 1.0000\n"
     ]
    },
    {
     "data": {
      "text/plain": [
       "[0.010127987712621689, 1.0]"
      ]
     },
     "execution_count": 16,
     "metadata": {},
     "output_type": "execute_result"
    }
   ],
   "source": [
    "model.evaluate(val_data)"
   ]
  },
  {
   "cell_type": "code",
   "execution_count": 11,
   "id": "ce8544ca",
   "metadata": {},
   "outputs": [
    {
     "name": "stdout",
     "output_type": "stream",
     "text": [
      "Accuracy  [0.13221153616905212, 0.38461539149284363, 0.7115384340286255, 0.84375, 0.9206730723381042, 0.9447115659713745, 0.973557710647583, 0.9831730723381042, 0.9879807829856873, 0.9879807829856873, 0.9903846383094788, 0.9927884340286255, 0.9927884340286255, 0.9927884340286255, 1.0]\n",
      "[0.19230769574642181, 0.35576921701431274, 0.557692289352417, 0.7788461446762085, 0.932692289352417, 0.942307710647583, 0.9615384340286255, 0.942307710647583, 0.9903846383094788, 1.0, 1.0, 1.0, 0.9903846383094788, 1.0, 1.0]\n",
      "[3.1334173679351807, 2.1025547981262207, 0.924383819103241, 0.48577743768692017, 0.24441035091876984, 0.15000951290130615, 0.08895446360111237, 0.05423809587955475, 0.060092806816101074, 0.035442519932985306, 0.034752607345581055, 0.027207668870687485, 0.01650184951722622, 0.016827881336212158, 0.005902988836169243]\n",
      "[2.9324560165405273, 1.815815806388855, 1.703681230545044, 0.6237502694129944, 0.23156827688217163, 0.1410159468650818, 0.1328641176223755, 0.21773001551628113, 0.028123630210757256, 0.01364465057849884, 0.02759324200451374, 0.017736928537487984, 0.021789254620671272, 0.0030223107896745205, 0.010127987712621689]\n"
     ]
    }
   ],
   "source": [
    "#plotting training values\n",
    "import matplotlib.pyplot as plt\n",
    "import seaborn as sns\n",
    "sns.set()\n",
    "\n",
    "acc = fit.history['accuracy']\n",
    "val_acc = fit.history['val_accuracy']\n",
    "loss = fit.history['loss']\n",
    "val_loss = fit.history['val_loss']\n",
    "\n",
    "print(\"Accuracy \" , acc)\n",
    "print(val_acc)\n",
    "print(loss)\n",
    "print(val_loss)"
   ]
  },
  {
   "cell_type": "code",
   "execution_count": 12,
   "id": "673365d5",
   "metadata": {},
   "outputs": [
    {
     "data": {
      "image/png": "[encoded data removed]",
      "text/plain": [
       "<Figure size 432x288 with 1 Axes>"
      ]
     },
     "metadata": {},
     "output_type": "display_data"
    },
    {
     "data": {
      "image/png": "[encoded data removed]",
      "text/plain": [
       "<Figure size 432x288 with 1 Axes>"
      ]
     },
     "metadata": {},
     "output_type": "display_data"
    }
   ],
   "source": [
    "epochs = range(1, len(loss) + 1)\n",
    "#accuracy plot\n",
    "plt.plot(epochs, acc, color='green', label='Training Accuracy')\n",
    "plt.plot(epochs, val_acc, color='blue', label='Validation Accuracy')\n",
    "plt.title('Training and Validation Accuracy')\n",
    "plt.ylabel('Accuracy')\n",
    "plt.xlabel('Epoch')\n",
    "plt.legend()\n",
    "\n",
    "plt.figure()\n",
    "#loss plot\n",
    "plt.plot(epochs, loss, color='pink', label='Training Loss')\n",
    "plt.plot(epochs, val_loss, color='red', label='Validation Loss')\n",
    "plt.title('Training and Validation Loss')\n",
    "plt.xlabel('Epoch')\n",
    "plt.ylabel('Loss')\n",
    "plt.legend()\n",
    "\n",
    "plt.show()"
   ]
  },
  {
   "cell_type": "code",
   "execution_count": 19,
   "id": "008d31b7",
   "metadata": {},
   "outputs": [
    {
     "name": "stdout",
     "output_type": "stream",
     "text": [
      "Model: \"sequential\"\n",
      "_________________________________________________________________\n",
      "Layer (type)                 Output Shape              Param #   \n",
      "=================================================================\n",
      "batch_normalization (BatchNo (None, 50, 50, 3)         12        \n",
      "_________________________________________________________________\n",
      "conv2d (Conv2D)              (None, 48, 48, 64)        1792      \n",
      "_________________________________________________________________\n",
      "max_pooling2d (MaxPooling2D) (None, 24, 24, 64)        0         \n",
      "_________________________________________________________________\n",
      "conv2d_1 (Conv2D)            (None, 22, 22, 64)        36928     \n",
      "_________________________________________________________________\n",
      "max_pooling2d_1 (MaxPooling2 (None, 11, 11, 64)        0         \n",
      "_________________________________________________________________\n",
      "conv2d_2 (Conv2D)            (None, 9, 9, 64)          36928     \n",
      "_________________________________________________________________\n",
      "max_pooling2d_2 (MaxPooling2 (None, 4, 4, 64)          0         \n",
      "_________________________________________________________________\n",
      "flatten (Flatten)            (None, 1024)              0         \n",
      "_________________________________________________________________\n",
      "dense (Dense)                (None, 128)               131200    \n",
      "_________________________________________________________________\n",
      "dropout (Dropout)            (None, 128)               0         \n",
      "_________________________________________________________________\n",
      "dense_1 (Dense)              (None, 27)                3483      \n",
      "=================================================================\n",
      "Total params: 210,343\n",
      "Trainable params: 210,337\n",
      "Non-trainable params: 6\n",
      "_________________________________________________________________\n",
      "4/4 [==============================] - 0s 36ms/step - loss: 0.0101 - accuracy: 0.0481\n"
     ]
    },
    {
     "data": {
      "text/plain": [
       "[0.010127989575266838, 0.048076923936605453]"
      ]
     },
     "execution_count": 19,
     "metadata": {},
     "output_type": "execute_result"
    }
   ],
   "source": [
    "model.save('modelCnnAyush.h5')\n",
    "import cv2\n",
    "import tensorflow as tf\n",
    "# modelSaved = tf.keras.models.load_model('modelKhalid.h5')\n",
    "# load and evaluate a saved model\n",
    "from numpy import loadtxt\n",
    "from keras.models import load_model\n",
    " \n",
    "# load model\n",
    "newmodel = load_model('modelCnnAyush.h5')\n",
    "# summarize model.\n",
    "newmodel.summary()\n",
    "\n",
    "newmodel.evaluate(val_data)\n",
    "\n",
    "# acc = model.history['accuracy']\n",
    "# val_acc = model.history['val_accuracy']\n",
    "# loss = model.history['loss']\n",
    "# val_loss =model.history['val_loss']"
   ]
  },
  {
   "cell_type": "code",
   "execution_count": null,
   "id": "d6bcd693",
   "metadata": {
    "scrolled": true
   },
   "outputs": [],
   "source": [
    "\n",
    "pip install tensorflowjs\n"
   ]
  },
  {
   "cell_type": "code",
   "execution_count": null,
   "id": "dff748e0",
   "metadata": {},
   "outputs": [],
   "source": []
  },
  {
   "cell_type": "code",
   "execution_count": null,
   "id": "d1515288",
   "metadata": {},
   "outputs": [],
   "source": []
  },
  {
   "cell_type": "code",
   "execution_count": null,
   "id": "70ed90e8",
   "metadata": {},
   "outputs": [],
   "source": []
  }
 ],
 "metadata": {
  "_draft": {
   "nbviewer_url": "https://gist.github.com/5fcc6d0710e961fe40791dfa72b49f10"
  },
  "gist": {
   "data": {
    "description": "anaconda_work/project649/KhalidDataset/khalidData.ipynb",
    "public": true
   },
   "id": "5fcc6d0710e961fe40791dfa72b49f10"
  },
  "kernelspec": {
   "display_name": "Python 3",
   "language": "python",
   "name": "python3"
  },
  "language_info": {
   "codemirror_mode": {
    "name": "ipython",
    "version": 3
   },
   "file_extension": ".py",
   "mimetype": "text/x-python",
   "name": "python",
   "nbconvert_exporter": "python",
   "pygments_lexer": "ipython3",
   "version": "3.8.8"
  }
 },
 "nbformat": 4,
 "nbformat_minor": 5
}
