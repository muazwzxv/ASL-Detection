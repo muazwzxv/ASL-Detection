{
 "cells": [
  {
   "cell_type": "code",
   "execution_count": 9,
   "metadata": {},
   "outputs": [
    {
     "name": "stdout",
     "output_type": "stream",
     "text": [
      "./dataset/american_sign_language.PNG\n",
      "./dataset/sign_mnist_train.csv\n",
      "./dataset/amer_sign2.png\n",
      "./dataset/amer_sign3.png\n",
      "./dataset/sign_mnist_test/sign_mnist_test.csv\n",
      "./dataset/sign_mnist_train/sign_mnist_train.csv\n"
     ]
    }
   ],
   "source": [
    "\n",
    "import numpy as np\n",
    "import pandas as pd\n",
    "import csv\n",
    "import os\n",
    "for dirname, _, filenames in os.walk('./dataset/'):\n",
    "\tfor filename in filenames:\n",
    "\t\tprint(os.path.join(dirname, filename))"
   ]
  },
  {
   "cell_type": "code",
   "execution_count": 10,
   "metadata": {},
   "outputs": [
    {
     "name": "stdout",
     "output_type": "stream",
     "text": [
      "(27455, 28, 28)\n",
      "(27455,)\n",
      "(7172, 28, 28)\n",
      "(7172,)\n"
     ]
    }
   ],
   "source": [
    "def get_data(filename):\n",
    "    with open(filename) as training_file:\n",
    "        reader = csv.reader(training_file, delimiter=',')    \n",
    "        imgs = []\n",
    "        labels = []\n",
    "\n",
    "        next(reader, None)\n",
    "        \n",
    "        for row in reader:\n",
    "            label = row[0]\n",
    "            data = row[1:]\n",
    "            img = np.array(data).reshape((28, 28))\n",
    "\n",
    "            imgs.append(img)\n",
    "            labels.append(label)\n",
    "\n",
    "        images = np.array(imgs).astype(float)\n",
    "        labels = np.array(labels).astype(float)\n",
    "    return images, labels\n",
    "\n",
    "\n",
    "training_images, training_labels = get_data('./dataset/sign_mnist_test/sign_mnist_train.csv')\n",
    "testing_images, testing_labels = get_data('./dataset/sign_mnist_test/sign_mnist_test.csv')\n",
    "\n",
    "print(training_images.shape)\n",
    "print(training_labels.shape)\n",
    "print(testing_images.shape)\n",
    "print(testing_labels.shape)\n"
   ]
  },
  {
   "cell_type": "code",
   "execution_count": 11,
   "metadata": {},
   "outputs": [
    {
     "name": "stdout",
     "output_type": "stream",
     "text": [
      "(27455, 28, 28, 1)\n",
      "(7172, 28, 28, 1)\n"
     ]
    }
   ],
   "source": [
    "from tensorflow.keras.preprocessing.image import ImageDataGenerator\n",
    "training_images = np.expand_dims(training_images, axis=3)\n",
    "testing_images = np.expand_dims(testing_images, axis=3)\n",
    "\n",
    "# ImageDataGenerator to do Image Augmentation\n",
    "train_datagen = ImageDataGenerator(\n",
    "    rescale=1. / 255,\n",
    "    rotation_range=40,\n",
    "    width_shift_range=0.2,\n",
    "    height_shift_range=0.2,\n",
    "    shear_range=0.2,\n",
    "    zoom_range=0.2,\n",
    "    horizontal_flip=True,\n",
    "    fill_mode='nearest'\n",
    "    )\n",
    "\n",
    "validation_datagen = ImageDataGenerator(rescale=1 / 255)\n",
    "    \n",
    "print(training_images.shape)\n",
    "print(testing_images.shape)"
   ]
  },
  {
   "cell_type": "code",
   "execution_count": 13,
   "metadata": {},
   "outputs": [
    {
     "name": "stdout",
     "output_type": "stream",
     "text": [
      "Epoch 1/25\n",
      "429/429 [==============================] - 26s 60ms/step - loss: 2.8560 - accuracy: 0.1441 - val_loss: 2.1342 - val_accuracy: 0.3193\n",
      "Epoch 2/25\n",
      "429/429 [==============================] - 23s 53ms/step - loss: 2.2092 - accuracy: 0.3121 - val_loss: 1.6593 - val_accuracy: 0.4124\n",
      "Epoch 3/25\n",
      "429/429 [==============================] - 21s 50ms/step - loss: 1.7735 - accuracy: 0.4353 - val_loss: 1.0876 - val_accuracy: 0.6279\n",
      "Epoch 4/25\n",
      "429/429 [==============================] - 22s 52ms/step - loss: 1.4887 - accuracy: 0.5187 - val_loss: 0.9464 - val_accuracy: 0.6906\n",
      "Epoch 5/25\n",
      "429/429 [==============================] - 22s 51ms/step - loss: 1.2979 - accuracy: 0.5772 - val_loss: 0.8625 - val_accuracy: 0.6988\n",
      "Epoch 6/25\n",
      "429/429 [==============================] - 24s 57ms/step - loss: 1.1465 - accuracy: 0.6280 - val_loss: 0.5698 - val_accuracy: 0.8133\n",
      "Epoch 7/25\n",
      "429/429 [==============================] - 25s 57ms/step - loss: 1.0479 - accuracy: 0.6571 - val_loss: 0.5283 - val_accuracy: 0.8107\n",
      "Epoch 8/25\n",
      "429/429 [==============================] - 21s 50ms/step - loss: 0.9606 - accuracy: 0.6873 - val_loss: 0.6309 - val_accuracy: 0.7757\n",
      "Epoch 9/25\n",
      "429/429 [==============================] - 21s 48ms/step - loss: 0.8703 - accuracy: 0.7153 - val_loss: 0.4457 - val_accuracy: 0.8511\n",
      "Epoch 10/25\n",
      "429/429 [==============================] - 22s 50ms/step - loss: 0.8036 - accuracy: 0.7314 - val_loss: 0.5032 - val_accuracy: 0.8233\n",
      "Epoch 11/25\n",
      "429/429 [==============================] - 23s 54ms/step - loss: 0.7495 - accuracy: 0.7518 - val_loss: 0.3638 - val_accuracy: 0.8763\n",
      "Epoch 12/25\n",
      "429/429 [==============================] - 20s 46ms/step - loss: 0.7112 - accuracy: 0.7639 - val_loss: 0.3435 - val_accuracy: 0.8844\n",
      "Epoch 13/25\n",
      "429/429 [==============================] - 20s 47ms/step - loss: 0.6615 - accuracy: 0.7816 - val_loss: 0.3110 - val_accuracy: 0.8820\n",
      "Epoch 14/25\n",
      "429/429 [==============================] - 20s 46ms/step - loss: 0.6360 - accuracy: 0.7877 - val_loss: 0.2868 - val_accuracy: 0.9096\n",
      "Epoch 15/25\n",
      "429/429 [==============================] - 21s 48ms/step - loss: 0.5754 - accuracy: 0.8085 - val_loss: 0.3288 - val_accuracy: 0.8742\n",
      "Epoch 16/25\n",
      "429/429 [==============================] - 21s 49ms/step - loss: 0.5638 - accuracy: 0.8111 - val_loss: 0.2579 - val_accuracy: 0.9053\n",
      "Epoch 17/25\n",
      "429/429 [==============================] - 21s 49ms/step - loss: 0.5478 - accuracy: 0.8190 - val_loss: 0.2995 - val_accuracy: 0.8971\n",
      "Epoch 18/25\n",
      "429/429 [==============================] - 21s 49ms/step - loss: 0.5161 - accuracy: 0.8296 - val_loss: 0.2292 - val_accuracy: 0.9283\n",
      "Epoch 19/25\n",
      "429/429 [==============================] - 21s 49ms/step - loss: 0.4948 - accuracy: 0.8333 - val_loss: 0.2192 - val_accuracy: 0.9215\n",
      "Epoch 20/25\n",
      "429/429 [==============================] - 21s 50ms/step - loss: 0.4666 - accuracy: 0.8452 - val_loss: 0.1576 - val_accuracy: 0.9534\n",
      "Epoch 21/25\n",
      "429/429 [==============================] - 21s 49ms/step - loss: 0.4540 - accuracy: 0.8482 - val_loss: 0.2379 - val_accuracy: 0.9237\n",
      "Epoch 22/25\n",
      "429/429 [==============================] - 22s 50ms/step - loss: 0.4518 - accuracy: 0.8508 - val_loss: 0.2142 - val_accuracy: 0.9396\n",
      "Epoch 23/25\n",
      "429/429 [==============================] - 21s 49ms/step - loss: 0.4204 - accuracy: 0.8602 - val_loss: 0.1989 - val_accuracy: 0.9322\n",
      "Epoch 24/25\n",
      "429/429 [==============================] - 21s 49ms/step - loss: 0.4152 - accuracy: 0.8614 - val_loss: 0.1442 - val_accuracy: 0.9498\n",
      "Epoch 25/25\n",
      "429/429 [==============================] - 22s 51ms/step - loss: 0.3991 - accuracy: 0.8657 - val_loss: 0.1777 - val_accuracy: 0.9387\n"
     ]
    },
    {
     "data": {
      "text/plain": [
       "[89.17156982421875, 0.7771890759468079]"
      ]
     },
     "execution_count": 13,
     "metadata": {},
     "output_type": "execute_result"
    }
   ],
   "source": [
    "import tensorflow as tf\n",
    "# Define the CNN model\n",
    "model = tf.keras.models.Sequential([\n",
    "        tf.keras.layers.Conv2D(32, (3,3), activation='relu', input_shape=(28, 28, 1)),\n",
    "        tf.keras.layers.MaxPooling2D(2,2),\n",
    "        tf.keras.layers.Conv2D(32, (3,3), activation='relu'),\n",
    "        tf.keras.layers.MaxPooling2D(2,2),\n",
    "        tf.keras.layers.Flatten(),\n",
    "        tf.keras.layers.Dense(512, activation='relu'),\n",
    "        tf.keras.layers.Dense(26, activation='softmax')\n",
    "])\n",
    "\n",
    "# Compile Model. As this is multi class classification, keep loss as categorical\n",
    "model.compile(optimizer='adam',\n",
    "    loss='sparse_categorical_crossentropy',\n",
    "    metrics=['accuracy'])\n",
    "    \n",
    "train_gen = train_datagen.flow(\n",
    "    training_images,\n",
    "    training_labels,\n",
    "    batch_size=64\n",
    ")\n",
    "\n",
    "val_gen = validation_datagen.flow(\n",
    "    testing_images,\n",
    "    testing_labels,\n",
    "    batch_size=64\n",
    ")\n",
    "\n",
    "# Train the Model\n",
    "history = model.fit(\n",
    "    train_gen,\n",
    "    epochs=25,\n",
    "    validation_data=val_gen\n",
    ")\n",
    "\n",
    "model.evaluate(testing_images, testing_labels, verbose=0)"
   ]
  },
  {
   "cell_type": "code",
   "execution_count": 15,
   "metadata": {},
   "outputs": [
    {
     "data": {
      "image/png": "[encoded data removed]",
      "text/plain": [
       "<Figure size 432x288 with 1 Axes>"
      ]
     },
     "metadata": {
      "needs_background": "light"
     },
     "output_type": "display_data"
    },
    {
     "data": {
      "image/png": "[encoded data removed]",
      "text/plain": [
       "<Figure size 432x288 with 1 Axes>"
      ]
     },
     "metadata": {
      "needs_background": "light"
     },
     "output_type": "display_data"
    }
   ],
   "source": [
    "# Plot the chart for accuracy and loss on both training and validation\n",
    "%matplotlib inline\n",
    "import matplotlib.pyplot as plt\n",
    "acc = history.history['accuracy']\n",
    "val_acc = history.history['val_accuracy']\n",
    "loss = history.history['loss']\n",
    "val_loss = history.history['val_loss']\n",
    "\n",
    "epochs = range(len(acc))\n",
    "\n",
    "plt.plot(epochs, acc, 'r', label='Training accuracy')\n",
    "plt.plot(epochs, val_acc, 'b', label='Validation accuracy')\n",
    "plt.title('Training and validation accuracy')\n",
    "plt.legend()\n",
    "plt.figure()\n",
    "\n",
    "plt.plot(epochs, loss, 'r', label='Training Loss')\n",
    "plt.plot(epochs, val_loss, 'b', label='Validation Loss')\n",
    "plt.title('Training and validation loss')\n",
    "plt.legend()\n",
    "\n",
    "plt.show()"
   ]
  },
  {
   "cell_type": "code",
   "execution_count": 17,
   "metadata": {},
   "outputs": [
    {
     "data": {
      "text/plain": [
       "0.7771890686001115"
      ]
     },
     "execution_count": 17,
     "metadata": {},
     "output_type": "execute_result"
    }
   ],
   "source": [
    "from sklearn.metrics import accuracy_score\n",
    "    \n",
    "# Predict the label of the test_images\n",
    "pred = model.predict(testing_images)\n",
    "pred = np.argmax(pred,axis=1)\n",
    "\n",
    "# Accuracy score\n",
    "acc = accuracy_score(testing_labels,pred)\n",
    "acc"
   ]
  }
 ],
 "metadata": {
  "interpreter": {
   "hash": "d8a72d3237275c3397c44ec8161f1d9e32216d7a57c6463427370d11653b3a14"
  },
  "kernelspec": {
   "display_name": "Python 3",
   "language": "python",
   "name": "python3"
  },
  "language_info": {
   "codemirror_mode": {
    "name": "ipython",
    "version": 3
   },
   "file_extension": ".py",
   "mimetype": "text/x-python",
   "name": "python",
   "nbconvert_exporter": "python",
   "pygments_lexer": "ipython3",
   "version": "3.8.8"
  }
 },
 "nbformat": 4,
 "nbformat_minor": 2
}
