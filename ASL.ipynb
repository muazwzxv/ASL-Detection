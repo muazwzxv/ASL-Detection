{
 "cells": [
  {
   "cell_type": "code",
   "execution_count": 3,
   "metadata": {},
   "outputs": [],
   "source": [
    "from __future__ import absolute_import, division, print_function\n",
    "import tensorflow as tf"
   ]
  },
  {
   "cell_type": "code",
   "execution_count": 6,
   "metadata": {},
   "outputs": [],
   "source": [
    "from numpy.random import seed\n",
    "import cv2\n",
    "import os\n",
    "import numpy as np\n",
    "import skimage\n",
    "from skimage.transform import resize\n",
    "import csv\n",
    "import itertools\n",
    "from tqdm import tqdm\n",
    "from glob import glob\n",
    "from matplotlib import pyplot as plt\n",
    "from numpy import floor\n",
    "import random\n",
    "import tensorflow.compat.v1 as tf\n",
    "import keras\n",
    "tf.disable_v2_behavior()"
   ]
  },
  {
   "cell_type": "code",
   "execution_count": 7,
   "metadata": {},
   "outputs": [],
   "source": [
    "# Function to load the images\n",
    "def load_images(directory):\n",
    "    images = []\n",
    "    labels = []\n",
    "    for idx, label in enumerate(unique_labels):\n",
    "        print(label,\" is ready to load\")\n",
    "        for file in os.listdir(directory + \"/\" + label):\n",
    "            filepath = directory + \"/\" + label + \"/\" + file\n",
    "            image = cv2.resize(cv2.imread(filepath), (64, 64))\n",
    "            images.append(image)\n",
    "            labels.append(idx)\n",
    "    images = np.array(images)\n",
    "    labels = np.array(labels)\n",
    "    return(images, labels)"
   ]
  },
  {
   "cell_type": "code",
   "execution_count": 8,
   "metadata": {},
   "outputs": [
    {
     "name": "stdout",
     "output_type": "stream",
     "text": [
      "A  is ready to load\n",
      "B  is ready to load\n",
      "C  is ready to load\n",
      "D  is ready to load\n",
      "E  is ready to load\n",
      "F  is ready to load\n",
      "G  is ready to load\n",
      "H  is ready to load\n",
      "I  is ready to load\n",
      "J  is ready to load\n",
      "K  is ready to load\n",
      "L  is ready to load\n",
      "M  is ready to load\n",
      "N  is ready to load\n",
      "O  is ready to load\n",
      "P  is ready to load\n",
      "Q  is ready to load\n",
      "R  is ready to load\n",
      "S  is ready to load\n",
      "T  is ready to load\n",
      "U  is ready to load\n",
      "V  is ready to load\n",
      "W  is ready to load\n",
      "X  is ready to load\n",
      "Y  is ready to load\n",
      "Z  is ready to load\n",
      "del  is ready to load\n",
      "nothing  is ready to load\n",
      "space  is ready to load\n",
      "Data has been loaded\n"
     ]
    }
   ],
   "source": [
    "# Load all the iamges\n",
    "train_dir = './asl_alphabet_train/asl_alphabet_train'\n",
    "unique_labels = sorted(os.listdir(train_dir))\n",
    "\n",
    "images, labels = load_images(directory = train_dir)\n",
    "print(\"Data has been loaded\")"
   ]
  },
  {
   "cell_type": "code",
   "execution_count": 9,
   "metadata": {},
   "outputs": [
    {
     "name": "stdout",
     "output_type": "stream",
     "text": [
      "Total number of symbols:  29\n",
      "Number of training images:  69600\n",
      "Number of testing images:  17400\n"
     ]
    }
   ],
   "source": [
    "# Split the training and the testing datasets\n",
    "from sklearn.model_selection import train_test_split\n",
    "x_train, x_test, y_train, y_test = train_test_split(images, labels, test_size = 0.2, stratify = labels)\n",
    "\n",
    "n = len(unique_labels)\n",
    "train_n = len(x_train)\n",
    "test_n = len(x_test)\n",
    "\n",
    "print(\"Total number of symbols: \", n)\n",
    "print(\"Number of training images: \" , train_n)\n",
    "print(\"Number of testing images: \", test_n)"
   ]
  }
 ],
 "metadata": {
  "kernelspec": {
   "display_name": "Python 3",
   "language": "python",
   "name": "python3"
  },
  "language_info": {
   "codemirror_mode": {
    "name": "ipython",
    "version": 3
   },
   "file_extension": ".py",
   "mimetype": "text/x-python",
   "name": "python",
   "nbconvert_exporter": "python",
   "pygments_lexer": "ipython3",
   "version": "3.7.3"
  }
 },
 "nbformat": 4,
 "nbformat_minor": 2
}
